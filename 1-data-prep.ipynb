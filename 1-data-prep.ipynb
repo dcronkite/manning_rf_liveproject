{
 "cells": [
  {
   "cell_type": "markdown",
   "source": [
    "# Workflow\n",
    "\n",
    "1. Load data into a pandas DataFrame.\n",
    "    * Use the data file loan_data.csv from the GitHub repository or download the file below.\n",
    "Examine the datatypes to ensure they are as expected; convert columns to the expected datatype, if needed.\n",
    "loan_data.csv.zip\n",
    "    * Examine the head and tail of the data, and use the .describe() function of Pandas DataFrames for basic EDA.\n",
    "\n",
    "2. Examine each variable to determine if it can be used as-is, or requires feature engineering or data cleaning.\n",
    "\n",
    "    * Use pandas-profiling for a quick way to perform some basic EDA on the entire dataset at once.\n",
    "    * Note columns that you want to feature engineer and data clean, as you will do that in Milestone 2.\n",
    "3. Examine the interrelationships of features to the target variable (loan default) Using the risk ratio (a.k.a. “odds ratio,” the default rate of a group divided by the global default rate), mutual information, and correlations to the target column (LOAN_DEFAULT) to understand feature importance.\n",
    "\n",
    "1. Perform as much additional EDA as you see fit, such as other plots (along the lines of boxplots and methods such as clustering.)\n",
    "1. Drop any columns you’ve deemed unnecessary, and save the data to disk (e.g., as a CSV file) for your next step. You might also drop columns earlier in the process.\n"
   ],
   "metadata": {
    "collapsed": false,
    "pycharm": {
     "name": "#%% md\n"
    }
   }
  },
  {
   "cell_type": "markdown",
   "source": [
    "# Notes\n",
    "\n",
    "Understanding the loan data is key.\n",
    "\n",
    "Our target column (the one we want to predict) is “LOAN_DEFAULT.”\n",
    "Other columns that can be inputs to our machine learning algorithms, will be defined in a given data dictionary (“Data Dictionary.xlsx”). Since the data is from India, the currency denomination is Indian Rupees.\n",
    "Primary and secondary accounts are other loans that the lender took out before the current loan was entered into the dataset; the disbursed amounts for these loans can be 0.\n",
    "\n",
    "The amount of the loan is held in the “DISBURSED_AMOUNT” column.\n",
    "\n",
    "EMI amounts are lenders’ monthly payments. See these Wikipedia for explanations of Aadhaar, and Permanent Account Number (PAN).\n",
    "\n",
    "This data was originally used in the hackathon/competition “Vehicle Loan Default Prediction”.\n",
    "\n",
    "Data from the Kaggle dataset has been for this project, so it won’t exactly match the data in the Kaggle dataset.\n",
    "\n",
    "EDA process\n",
    "\n",
    "Part of your EDA process should be understanding which columns you can safely remove. You can come up with and use your own removal process, but you might do something like the following for a binary classification problem like this:\n",
    "\n",
    "1. Examine the head and tail of the data, looking at the .info() and .describe() results from Pandas DataFrames and scanning for missing values, including placeholders like 0s, -999, -1, etc.\n",
    "1. Look for columns with little variation (and 0s)\n",
    "1. Look for ‘unique’ columns (like ID columns)\n",
    "1. Note anything else interesting (e.g. any columns you suspect may not be important) and columns to feature engineer\n",
    "1. Perform any feature engineering necessary for EDA (e.g. dtype conversions, like from a string to a date)\n",
    "1. Examine the target column (e.g. fraction of defaulted loans)\n",
    "1. Look at the risk ratio (odds ratio)\n",
    "1. Look at correlations\n",
    "1. Look at mutual information scores\n",
    "1. Generate other plots of the data, such as box plots and correlation plots\n",
    "1. Potentially cluster the data using k-means, DBSCAN, hierarchical clustering, etc. (not required here but good to keep in mind)\n",
    "1. The steps for examining individual columns (points 3-6 above) can be performed when you examine the results from running pandas-profiling."
   ],
   "metadata": {
    "collapsed": false,
    "pycharm": {
     "name": "#%% md\n"
    }
   }
  },
  {
   "cell_type": "code",
   "execution_count": 1,
   "metadata": {
    "collapsed": true
   },
   "outputs": [],
   "source": [
    "import pandas as pd\n",
    "from pandas_profiling import ProfileReport"
   ]
  },
  {
   "cell_type": "code",
   "execution_count": 2,
   "outputs": [],
   "source": [
    "df = pd.read_csv('loan_data.csv')"
   ],
   "metadata": {
    "collapsed": false,
    "pycharm": {
     "name": "#%%\n"
    }
   }
  },
  {
   "cell_type": "code",
   "execution_count": null,
   "outputs": [],
   "source": [
    "# uncomment to build profile\n",
    "# profile = ProfileReport(df, explorative=True)\n",
    "# profile.to_file('loan_data.html')\n"
   ],
   "metadata": {
    "collapsed": false,
    "pycharm": {
     "name": "#%%\n"
    }
   }
  },
  {
   "cell_type": "markdown",
   "source": [
    "# Column Analysis\n",
    "\n",
    "Column analysis was done using ProfileReport.\n",
    "\n",
    "* Useful\n",
    "    * DISBURSED_AMOUNT\n",
    "    * ASSET_COST\n",
    "    * LTV\n",
    "    * PERFORM_CNS_SCORE\n",
    "    * Employment_type\n",
    "    * SEC_CURRENT_BALANCE\n",
    "    * PRI_DISBURSED_AMOUNT\n",
    "    * PRIMARY_INSTAL_AMT\n",
    "    * SEC_INSTAL_AMT\n",
    "    * LOAN_DEFAULT: gold standard\n",
    "    * PRI_NO_OF_ACCTS: scored high for correlations, but 50% are 0\n",
    "* Requires cleaning\n",
    "    * PERFORM_CNS_SCORE_DESCRIPTION: interaction with PERFORM_CNS_SCORE? (needs cleaning first)\n",
    "    * CREDIT_HISTORY_LENGTH\n",
    "* New variables\n",
    "    * Age_at_Disbursal: Date_of_birth and DisbursalDate\n",
    "* Not useful\n",
    "    * BRANCH_ID: this might have geographical info, but no way to group by location from ID\n",
    "    * SUPPLIER_ID: same as BRANCH_ID\n",
    "    * MANUFACTURER_ID: any relevance to cost/loan amount is captured elsewhere (how $$ is [car)\n",
    "    * CURRENT_PINCODE\n",
    "    * DISBURSAL_DATE\n",
    "    * Date_of_birth\n",
    "    * Employee_code_ID\n",
    "    * State_id: Could geography play a role? This doesn't help with distinctions like urban/suburban/rural\n",
    "    * Flags related to voterid, driving, passport don't seem helpful since I don't know under what conditions these were obtained\n",
    "    * SEC_ACCOUNTS: not enough data\n",
    "    * SEC_SANCTIONED/DISBURSED: overlap with CURRENT_BALANCE\n"
   ],
   "metadata": {
    "collapsed": false,
    "pycharm": {
     "name": "#%% md\n"
    }
   }
  },
  {
   "cell_type": "code",
   "execution_count": 3,
   "outputs": [],
   "source": [
    "# set all columns to lower case to simplify\n",
    "df.columns = [col.lower() for col in df.columns]"
   ],
   "metadata": {
    "collapsed": false,
    "pycharm": {
     "name": "#%%\n"
    }
   }
  },
  {
   "cell_type": "code",
   "execution_count": 4,
   "outputs": [],
   "source": [
    "# variables to keep\n",
    "df = df.loc[:, [\n",
    "    'uniqueid',  # keep the individual\n",
    "    'disbursed_amount',\n",
    "    'asset_cost',\n",
    "    'ltv',\n",
    "    'employment_type',\n",
    "    'sec_current_balance',\n",
    "    'pri_disbursed_amount',\n",
    "    'primary_instal_amt',\n",
    "    'sec_instal_amt',\n",
    "    'perform_cns_score_description',\n",
    "    'perform_cns_score',\n",
    "    'date_of_birth',\n",
    "    'disbursal_date',\n",
    "    'loan_default',\n",
    "    'pri_no_of_accts',\n",
    "]]"
   ],
   "metadata": {
    "collapsed": false,
    "pycharm": {
     "name": "#%%\n"
    }
   }
  },
  {
   "cell_type": "code",
   "execution_count": 5,
   "outputs": [],
   "source": [
    "# generate age_at_disbursal\n",
    "df['age_at_disbursal'] = (\n",
    "        (pd.to_datetime(df['disbursal_date']) - pd.to_datetime(df['date_of_birth'])).dt.days / 365.25\n",
    ").apply(int)"
   ],
   "metadata": {
    "collapsed": false,
    "pycharm": {
     "name": "#%%\n"
    }
   }
  },
  {
   "cell_type": "code",
   "execution_count": 6,
   "outputs": [
    {
     "data": {
      "text/plain": "<AxesSubplot:>"
     },
     "execution_count": 6,
     "metadata": {},
     "output_type": "execute_result"
    },
    {
     "data": {
      "text/plain": "<Figure size 432x288 with 1 Axes>",
      "image/png": "[encoded data removed]"
     },
     "metadata": {
      "needs_background": "light"
     },
     "output_type": "display_data"
    }
   ],
   "source": [
    "df['age_at_disbursal'].hist()"
   ],
   "metadata": {
    "collapsed": false,
    "pycharm": {
     "name": "#%%\n"
    }
   }
  },
  {
   "cell_type": "code",
   "execution_count": 7,
   "outputs": [],
   "source": [
    "del df['date_of_birth']\n",
    "del df['disbursal_date']\n"
   ],
   "metadata": {
    "collapsed": false,
    "pycharm": {
     "name": "#%%\n"
    }
   }
  },
  {
   "cell_type": "code",
   "execution_count": 8,
   "outputs": [
    {
     "data": {
      "text/plain": "uniqueid                           int64\ndisbursed_amount                   int64\nasset_cost                         int64\nltv                              float64\nemployment_type                   object\nsec_current_balance                int64\npri_disbursed_amount               int64\nprimary_instal_amt                 int64\nsec_instal_amt                     int64\nperform_cns_score_description     object\nperform_cns_score                  int64\nloan_default                       int64\npri_no_of_accts                    int64\nage_at_disbursal                   int64\ndtype: object"
     },
     "execution_count": 8,
     "metadata": {},
     "output_type": "execute_result"
    }
   ],
   "source": [
    "df.dtypes\n",
    "\n"
   ],
   "metadata": {
    "collapsed": false,
    "pycharm": {
     "name": "#%%\n"
    }
   }
  },
  {
   "cell_type": "code",
   "execution_count": 9,
   "outputs": [],
   "source": [
    "# remove these low values and set all not-scored to 0, these can be imputed later\n",
    "df.loc[\n",
    "    df['perform_cns_score_description'].str.contains('Not Scored'),\n",
    "    'perform_cns_score'\n",
    "] = 0"
   ],
   "metadata": {
    "collapsed": false,
    "pycharm": {
     "name": "#%%\n"
    }
   }
  },
  {
   "cell_type": "code",
   "execution_count": 10,
   "outputs": [],
   "source": [
    "del df['perform_cns_score_description']\n"
   ],
   "metadata": {
    "collapsed": false,
    "pycharm": {
     "name": "#%%\n"
    }
   }
  },
  {
   "cell_type": "code",
   "execution_count": 11,
   "outputs": [],
   "source": [
    "df.to_csv('loan_data_cleaned.csv', index=False)"
   ],
   "metadata": {
    "collapsed": false,
    "pycharm": {
     "name": "#%%\n"
    }
   }
  },
  {
   "cell_type": "code",
   "execution_count": null,
   "outputs": [],
   "source": [],
   "metadata": {
    "collapsed": false,
    "pycharm": {
     "name": "#%%\n"
    }
   }
  }
 ],
 "metadata": {
  "kernelspec": {
   "name": "pycharm-f1d7854e",
   "language": "python",
   "display_name": "PyCharm (manning_random_forest_classifier_liveproject)"
  },
  "language_info": {
   "codemirror_mode": {
    "name": "ipython",
    "version": 2
   },
   "file_extension": ".py",
   "mimetype": "text/x-python",
   "name": "python",
   "nbconvert_exporter": "python",
   "pygments_lexer": "ipython2",
   "version": "2.7.6"
  }
 },
 "nbformat": 4,
 "nbformat_minor": 0
}