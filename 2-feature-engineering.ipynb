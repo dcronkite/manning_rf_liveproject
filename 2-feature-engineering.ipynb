{
 "cells": [
  {
   "cell_type": "markdown",
   "metadata": {
    "collapsed": true,
    "pycharm": {
     "name": "#%% md\n"
    }
   },
   "source": [
    "Engineering Features and Preparing Data to Use in Modeling\n",
    "Objective\n",
    "\n",
    "Now that you understand your data, your next step is to engineer features and prepare two sets of data to use for modeling: one that contains only numeric values, and one that contains numeric and categorical values, so you can leverage the advantage of H2O Random Forests over scikit-learn Random Forests.\n",
    "Workflow\n",
    "\n",
    "Load your data from Milestone 1, and make sure it looks OK.\n",
    "\n",
    "Engineer and clean features from your string and datetime columns and examine their relationship to the target column “LOAN_DEFAULT.”\n",
    "\n",
    "Parse a few columns that have date spans and are strings (e.g., AVERAGE_ACCT_AGE_MONTHS) for the appropriate data type (e.g., integer, datetime) using string methods or regex (the re library).\n",
    "Examine the relationship of new features to the target using appropriate methods such as Pearson correlation or mutual information.\n",
    "Create a copy of the DataFrame for use in scikit-learn to one-hot-encode (OHE) categorical columns and convert all columns to numeric types.\n",
    "\n",
    "Perform any missing value imputation .\n",
    "Take care to simplify the data if necessary. For example, if more than 50% of the data can be represented with 3 categories, you might group all your other data into an ”other” category to simplify it.\n",
    "If unique values in a column/feature are too spread out (e.g., each unique value is less than 1% of the total), it won’t work well for OHE. But if some unique values in the column make up ~5% of the total, you can use the risk ratio to evaluate if that column might be useful.\n",
    "Save the OHE and H2O DataFrames to disk (e.g., as CSV files) for your next step; also save about 10% or less of down-sampled versions of the data for developing your solution to Milestone 3.\n",
    "\n",
    "If you find the .apply() method in pandas is slow, you can parallelize it using swifter."
   ]
  },
  {
   "cell_type": "code",
   "execution_count": 1,
   "outputs": [],
   "source": [
    "import pandas as pd\n",
    "from pandas_profiling import ProfileReport\n",
    "from sklearn.model_selection import train_test_split\n",
    "import pathlib\n",
    "import h2o\n"
   ],
   "metadata": {
    "collapsed": false,
    "pycharm": {
     "name": "#%%\n"
    }
   }
  },
  {
   "cell_type": "code",
   "execution_count": 2,
   "outputs": [
    {
     "data": {
      "text/plain": "                                        0         1         2         3  \\\nuniqueid                           587200    479470    448682    534325   \ndisbursed_amount                    65607     55259     50503     63513   \nasset_cost                          78500     63439     66456     72500   \nltv                                    85     89.85     78.55     88.69   \nemployment_type             Self employed  Salaried  Salaried  Salaried   \nsec_current_balance                108425         0         0         0   \npri_disbursed_amount              7028184   1874823         0     85939   \nprimary_instal_amt                   4839         0         0         0   \nsec_instal_amt                          0         0         0         0   \nperform_cns_score                     585       741         0       691   \nloan_default                            0         0         0         0   \nage_at_disbursal                       25        34        20        26   \ncredit_history_in_months              202        53         0        24   \naverage_acct_age_in_months             27        20         0         6   \n\n                                        4  \nuniqueid                           469385  \ndisbursed_amount                    42794  \nasset_cost                          60321  \nltv                                 72.94  \nemployment_type             Self employed  \nsec_current_balance                     0  \npri_disbursed_amount                    0  \nprimary_instal_amt                      0  \nsec_instal_amt                          0  \nperform_cns_score                       0  \nloan_default                            0  \nage_at_disbursal                       27  \ncredit_history_in_months                0  \naverage_acct_age_in_months              0  ",
      "text/html": "<div>\n<style scoped>\n    .dataframe tbody tr th:only-of-type {\n        vertical-align: middle;\n    }\n\n    .dataframe tbody tr th {\n        vertical-align: top;\n    }\n\n    .dataframe thead th {\n        text-align: right;\n    }\n</style>\n<table border=\"1\" class=\"dataframe\">\n  <thead>\n    <tr style=\"text-align: right;\">\n      <th></th>\n      <th>0</th>\n      <th>1</th>\n      <th>2</th>\n      <th>3</th>\n      <th>4</th>\n    </tr>\n  </thead>\n  <tbody>\n    <tr>\n      <th>uniqueid</th>\n      <td>587200</td>\n      <td>479470</td>\n      <td>448682</td>\n      <td>534325</td>\n      <td>469385</td>\n    </tr>\n    <tr>\n      <th>disbursed_amount</th>\n      <td>65607</td>\n      <td>55259</td>\n      <td>50503</td>\n      <td>63513</td>\n      <td>42794</td>\n    </tr>\n    <tr>\n      <th>asset_cost</th>\n      <td>78500</td>\n      <td>63439</td>\n      <td>66456</td>\n      <td>72500</td>\n      <td>60321</td>\n    </tr>\n    <tr>\n      <th>ltv</th>\n      <td>85</td>\n      <td>89.85</td>\n      <td>78.55</td>\n      <td>88.69</td>\n      <td>72.94</td>\n    </tr>\n    <tr>\n      <th>employment_type</th>\n      <td>Self employed</td>\n      <td>Salaried</td>\n      <td>Salaried</td>\n      <td>Salaried</td>\n      <td>Self employed</td>\n    </tr>\n    <tr>\n      <th>sec_current_balance</th>\n      <td>108425</td>\n      <td>0</td>\n      <td>0</td>\n      <td>0</td>\n      <td>0</td>\n    </tr>\n    <tr>\n      <th>pri_disbursed_amount</th>\n      <td>7028184</td>\n      <td>1874823</td>\n      <td>0</td>\n      <td>85939</td>\n      <td>0</td>\n    </tr>\n    <tr>\n      <th>primary_instal_amt</th>\n      <td>4839</td>\n      <td>0</td>\n      <td>0</td>\n      <td>0</td>\n      <td>0</td>\n    </tr>\n    <tr>\n      <th>sec_instal_amt</th>\n      <td>0</td>\n      <td>0</td>\n      <td>0</td>\n      <td>0</td>\n      <td>0</td>\n    </tr>\n    <tr>\n      <th>perform_cns_score</th>\n      <td>585</td>\n      <td>741</td>\n      <td>0</td>\n      <td>691</td>\n      <td>0</td>\n    </tr>\n    <tr>\n      <th>loan_default</th>\n      <td>0</td>\n      <td>0</td>\n      <td>0</td>\n      <td>0</td>\n      <td>0</td>\n    </tr>\n    <tr>\n      <th>age_at_disbursal</th>\n      <td>25</td>\n      <td>34</td>\n      <td>20</td>\n      <td>26</td>\n      <td>27</td>\n    </tr>\n    <tr>\n      <th>credit_history_in_months</th>\n      <td>202</td>\n      <td>53</td>\n      <td>0</td>\n      <td>24</td>\n      <td>0</td>\n    </tr>\n    <tr>\n      <th>average_acct_age_in_months</th>\n      <td>27</td>\n      <td>20</td>\n      <td>0</td>\n      <td>6</td>\n      <td>0</td>\n    </tr>\n  </tbody>\n</table>\n</div>"
     },
     "execution_count": 2,
     "metadata": {},
     "output_type": "execute_result"
    }
   ],
   "source": [
    "df = pd.read_csv('loan_data_cleaned.csv')\n",
    "df.head().T"
   ],
   "metadata": {
    "collapsed": false,
    "pycharm": {
     "name": "#%%\n"
    }
   }
  },
  {
   "cell_type": "code",
   "execution_count": 3,
   "outputs": [],
   "source": [
    "employ_df = pd.get_dummies(df['employment_type'])\n",
    "employ_df.columns = [col.lower().replace(' ', '_') for col in employ_df.columns]\n",
    "df = pd.merge(df, employ_df, left_index=True, right_index=True)\n",
    "del df['employment_type']"
   ],
   "metadata": {
    "collapsed": false,
    "pycharm": {
     "name": "#%%\n"
    }
   }
  },
  {
   "cell_type": "markdown",
   "source": [
    "# Impute missing values\n",
    "\n",
    "Should some of these values be normalized at all??? I'm unclear."
   ],
   "metadata": {
    "collapsed": false,
    "pycharm": {
     "name": "#%% md\n"
    }
   }
  },
  {
   "cell_type": "code",
   "execution_count": 4,
   "outputs": [
    {
     "data": {
      "text/plain": "<AxesSubplot:>"
     },
     "execution_count": 4,
     "metadata": {},
     "output_type": "execute_result"
    },
    {
     "data": {
      "text/plain": "<Figure size 432x288 with 1 Axes>",
      "image/png": "[encoded data removed]"
     },
     "metadata": {
      "needs_background": "light"
     },
     "output_type": "display_data"
    }
   ],
   "source": [
    "# Treat 0s As missing as a separate variable, not sure if these should be imputed\n",
    "df[df['perform_cns_score'] != 0]['perform_cns_score'].median()\n",
    "df['perform_cns_score_cat'] = df['perform_cns_score']\n",
    "df['missing_cns_score'] = df['perform_cns_score'] == 0\n",
    "df.loc[\n",
    "    df['missing_cns_score'] == 1,\n",
    "    'perform_cns_score'\n",
    "] = df[df['perform_cns_score'] != 0]['perform_cns_score'].median()\n",
    "df['perform_cns_score'].hist()"
   ],
   "metadata": {
    "collapsed": false,
    "pycharm": {
     "name": "#%%\n"
    }
   }
  },
  {
   "cell_type": "code",
   "execution_count": 13,
   "outputs": [
    {
     "data": {
      "text/plain": "Summarize dataset:   0%|          | 0/30 [00:00<?, ?it/s]",
      "application/vnd.jupyter.widget-view+json": {
       "version_major": 2,
       "version_minor": 0,
       "model_id": "bf44c39873d44a7092951be798cb1d36"
      }
     },
     "metadata": {},
     "output_type": "display_data"
    },
    {
     "name": "stderr",
     "output_type": "stream",
     "text": [
      "D:\\prog\\Anaconda3\\envs\\manning_rf\\lib\\site-packages\\scipy\\stats\\stats.py:4594: RuntimeWarning: overflow encountered in longlong_scalars\n",
      "  (2 * xtie * ytie) / m + x0 * y0 / (9 * m * (size - 2)))\n"
     ]
    },
    {
     "data": {
      "text/plain": "Generate report structure:   0%|          | 0/1 [00:00<?, ?it/s]",
      "application/vnd.jupyter.widget-view+json": {
       "version_major": 2,
       "version_minor": 0,
       "model_id": "03ea46e6a33d4d34a3465e1cb62b7a23"
      }
     },
     "metadata": {},
     "output_type": "display_data"
    },
    {
     "data": {
      "text/plain": "Render HTML:   0%|          | 0/1 [00:00<?, ?it/s]",
      "application/vnd.jupyter.widget-view+json": {
       "version_major": 2,
       "version_minor": 0,
       "model_id": "3772c6434c6644d0b6b286c1f5080639"
      }
     },
     "metadata": {},
     "output_type": "display_data"
    },
    {
     "data": {
      "text/plain": "Export report to file:   0%|          | 0/1 [00:00<?, ?it/s]",
      "application/vnd.jupyter.widget-view+json": {
       "version_major": 2,
       "version_minor": 0,
       "model_id": "8d633aabe67d47d581c862c818a91262"
      }
     },
     "metadata": {},
     "output_type": "display_data"
    }
   ],
   "source": [
    "# profile = ProfileReport(df, explorative=True)\n",
    "# profile.to_file('loan_data.html')"
   ],
   "metadata": {
    "collapsed": false,
    "pycharm": {
     "name": "#%%\n"
    }
   }
  },
  {
   "cell_type": "markdown",
   "source": [
    "# Correlations"
   ],
   "metadata": {
    "collapsed": false,
    "pycharm": {
     "name": "#%% md\n"
    }
   }
  },
  {
   "cell_type": "code",
   "execution_count": 5,
   "outputs": [
    {
     "data": {
      "text/plain": "uniqueid                      0.029357\ndisbursed_amount              0.082687\nasset_cost                    0.035267\nltv                           0.075647\nsec_current_balance          -0.005351\npri_disbursed_amount         -0.013943\nprimary_instal_amt           -0.012018\nsec_instal_amt               -0.004786\nperform_cns_score            -0.165078\nloan_default                  1.000000\nage_at_disbursal             -0.011580\ncredit_history_in_months     -0.085651\naverage_acct_age_in_months   -0.081873\nsalaried                     -0.237717\nself_employed                 0.242872\nperform_cns_score_cat        -0.261489\nmissing_cns_score             0.205408\ndtype: float64"
     },
     "execution_count": 5,
     "metadata": {},
     "output_type": "execute_result"
    }
   ],
   "source": [
    "df.corrwith(df['loan_default'])"
   ],
   "metadata": {
    "collapsed": false,
    "pycharm": {
     "name": "#%%\n"
    }
   }
  },
  {
   "cell_type": "code",
   "execution_count": 6,
   "outputs": [],
   "source": [
    "# correlations too low\n",
    "del df['sec_instal_amt']\n",
    "del df['sec_current_balance']"
   ],
   "metadata": {
    "collapsed": false,
    "pycharm": {
     "name": "#%%\n"
    }
   }
  },
  {
   "cell_type": "markdown",
   "source": [
    "# Sample Data"
   ],
   "metadata": {
    "collapsed": false,
    "pycharm": {
     "name": "#%% md\n"
    }
   }
  },
  {
   "cell_type": "code",
   "execution_count": 7,
   "outputs": [],
   "source": [
    "development_df, validation_df = train_test_split(\n",
    "    df,\n",
    "    train_size=0.25,\n",
    "    stratify=df['loan_default'],\n",
    "    random_state=42\n",
    ")\n",
    "training_df, hyperparameter_df = train_test_split(\n",
    "    development_df,\n",
    "    train_size=0.05,\n",
    "    stratify=development_df['loan_default'],\n",
    "    random_state=42\n",
    ")\n",
    "\n"
   ],
   "metadata": {
    "collapsed": false,
    "pycharm": {
     "name": "#%%\n"
    }
   }
  },
  {
   "cell_type": "markdown",
   "source": [
    "# Output as Dataframe and H2O"
   ],
   "metadata": {
    "collapsed": false,
    "pycharm": {
     "name": "#%% md\n"
    }
   }
  },
  {
   "cell_type": "code",
   "execution_count": 8,
   "outputs": [],
   "source": [
    "datadir = pathlib.Path('data')\n",
    "datadir.mkdir(exist_ok=True)\n"
   ],
   "metadata": {
    "collapsed": false,
    "pycharm": {
     "name": "#%%\n"
    }
   }
  },
  {
   "cell_type": "code",
   "execution_count": 10,
   "outputs": [],
   "source": [
    "training_df.drop(columns='perform_cns_score_cat').to_csv(datadir / 'training.ohe.csv', index=False)\n",
    "hyperparameter_df.drop(columns='perform_cns_score_cat').to_csv(datadir / 'hyperparameter.ohe.csv', index=False)\n",
    "validation_df.drop(columns='perform_cns_score_cat').to_csv(datadir / 'validation.ohe.csv', index=False)\n"
   ],
   "metadata": {
    "collapsed": false,
    "pycharm": {
     "name": "#%%\n"
    }
   }
  },
  {
   "cell_type": "code",
   "execution_count": 11,
   "outputs": [
    {
     "name": "stdout",
     "output_type": "stream",
     "text": [
      "Checking whether there is an H2O instance running at http://localhost:54321 ..... not found.\n",
      "Attempting to start a local H2O server...\n",
      "; OpenJDK 64-Bit Server VM Zulu11.41+23-CA (build 11.0.8+10-LTS, mixed mode)\n",
      "  Starting server from D:\\prog\\Anaconda3\\envs\\manning_rf\\Lib\\site-packages\\h2o\\backend\\bin\\h2o.jar\n",
      "  Ice root: C:\\Users\\dcron\\AppData\\Local\\Temp\\tmpnhzxkm9w\n",
      "  JVM stdout: C:\\Users\\dcron\\AppData\\Local\\Temp\\tmpnhzxkm9w\\h2o_dcron_started_from_python.out\n",
      "  JVM stderr: C:\\Users\\dcron\\AppData\\Local\\Temp\\tmpnhzxkm9w\\h2o_dcron_started_from_python.err\n",
      "  Server is running at http://127.0.0.1:54321\n",
      "Connecting to H2O server at http://127.0.0.1:54321 ... successful.\n",
      "Warning: Your H2O cluster version is too old (4 months and 17 days)! Please download and install the latest version from http://h2o.ai/download/\n"
     ]
    },
    {
     "data": {
      "text/plain": "--------------------------  ---------------------------------------------------------\nH2O_cluster_uptime:         02 secs\nH2O_cluster_timezone:       America/Los_Angeles\nH2O_data_parsing_timezone:  UTC\nH2O_cluster_version:        3.30.1.3\nH2O_cluster_version_age:    4 months and 17 days !!!\nH2O_cluster_name:           H2O_from_python_dcron_0j46vn\nH2O_cluster_total_nodes:    1\nH2O_cluster_free_memory:    7.988 Gb\nH2O_cluster_total_cores:    16\nH2O_cluster_allowed_cores:  16\nH2O_cluster_status:         accepting new members, healthy\nH2O_connection_url:         http://127.0.0.1:54321\nH2O_connection_proxy:       {\"http\": null, \"https\": null}\nH2O_internal_security:      False\nH2O_API_Extensions:         Amazon S3, Algos, AutoML, Core V3, TargetEncoder, Core V4\nPython_version:             3.8.6 final\n--------------------------  ---------------------------------------------------------",
      "text/html": "<div style=\"overflow:auto\"><table style=\"width:50%\"><tr><td>H2O_cluster_uptime:</td>\n<td>02 secs</td></tr>\n<tr><td>H2O_cluster_timezone:</td>\n<td>America/Los_Angeles</td></tr>\n<tr><td>H2O_data_parsing_timezone:</td>\n<td>UTC</td></tr>\n<tr><td>H2O_cluster_version:</td>\n<td>3.30.1.3</td></tr>\n<tr><td>H2O_cluster_version_age:</td>\n<td>4 months and 17 days !!!</td></tr>\n<tr><td>H2O_cluster_name:</td>\n<td>H2O_from_python_dcron_0j46vn</td></tr>\n<tr><td>H2O_cluster_total_nodes:</td>\n<td>1</td></tr>\n<tr><td>H2O_cluster_free_memory:</td>\n<td>7.988 Gb</td></tr>\n<tr><td>H2O_cluster_total_cores:</td>\n<td>16</td></tr>\n<tr><td>H2O_cluster_allowed_cores:</td>\n<td>16</td></tr>\n<tr><td>H2O_cluster_status:</td>\n<td>accepting new members, healthy</td></tr>\n<tr><td>H2O_connection_url:</td>\n<td>http://127.0.0.1:54321</td></tr>\n<tr><td>H2O_connection_proxy:</td>\n<td>{\"http\": null, \"https\": null}</td></tr>\n<tr><td>H2O_internal_security:</td>\n<td>False</td></tr>\n<tr><td>H2O_API_Extensions:</td>\n<td>Amazon S3, Algos, AutoML, Core V3, TargetEncoder, Core V4</td></tr>\n<tr><td>Python_version:</td>\n<td>3.8.6 final</td></tr></table></div>"
     },
     "metadata": {},
     "output_type": "display_data"
    }
   ],
   "source": [
    "h2o.init()"
   ],
   "metadata": {
    "collapsed": false,
    "pycharm": {
     "name": "#%%\n"
    }
   }
  },
  {
   "cell_type": "code",
   "execution_count": 13,
   "outputs": [
    {
     "name": "stdout",
     "output_type": "stream",
     "text": [
      "Parse progress: |█████████████████████████████████████████████████████████| 100%\n",
      "Export File progress: |███████████████████████████████████████████████████| 100%\n",
      "Parse progress: |█████████████████████████████████████████████████████████| 100%\n",
      "Export File progress: |███████████████████████████████████████████████████| 100%\n",
      "Parse progress: |█████████████████████████████████████████████████████████| 100%\n",
      "Export File progress: |███████████████████████████████████████████████████| 100%\n"
     ]
    }
   ],
   "source": [
    "h2o.export_file(h2o.H2OFrame(training_df), str(datadir / 'training.h2o'))\n",
    "h2o.export_file(h2o.H2OFrame(hyperparameter_df), str(datadir / 'hyperparameter.h2o'))\n",
    "h2o.export_file(h2o.H2OFrame(validation_df), str(datadir / 'validation.h2o'))\n"
   ],
   "metadata": {
    "collapsed": false,
    "pycharm": {
     "name": "#%%\n"
    }
   }
  },
  {
   "cell_type": "code",
   "execution_count": 14,
   "outputs": [
    {
     "name": "stderr",
     "output_type": "stream",
     "text": [
      "<ipython-input-14-0cd96ac36c4f>:1: DeprecationWarning: Deprecated, use ``h2o.cluster().shutdown()``.\n",
      "  h2o.shutdown()\n"
     ]
    },
    {
     "name": "stdout",
     "output_type": "stream",
     "text": [
      "H2O session _sid_b723 closed.\n"
     ]
    }
   ],
   "source": [
    "h2o.shutdown()\n",
    "\n"
   ],
   "metadata": {
    "collapsed": false,
    "pycharm": {
     "name": "#%%\n"
    }
   }
  }
 ],
 "metadata": {
  "kernelspec": {
   "display_name": "Python 3",
   "language": "python",
   "name": "python3"
  },
  "language_info": {
   "codemirror_mode": {
    "name": "ipython",
    "version": 2
   },
   "file_extension": ".py",
   "mimetype": "text/x-python",
   "name": "python",
   "nbconvert_exporter": "python",
   "pygments_lexer": "ipython2",
   "version": "2.7.6"
  }
 },
 "nbformat": 4,
 "nbformat_minor": 0
}